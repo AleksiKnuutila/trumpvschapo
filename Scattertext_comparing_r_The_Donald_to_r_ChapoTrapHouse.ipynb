{
  "nbformat": 4,
  "nbformat_minor": 0,
  "metadata": {
    "colab": {
      "name": "Scattertext comparing /r/The_Donald to /r/ChapoTrapHouse",
      "provenance": [],
      "collapsed_sections": [],
      "toc_visible": true,
      "include_colab_link": true
    },
    "kernelspec": {
      "display_name": "Python 3",
      "name": "python3"
    }
  },
  "cells": [
    {
      "cell_type": "markdown",
      "metadata": {
        "id": "view-in-github",
        "colab_type": "text"
      },
      "source": [
        "<a href=\"https://colab.research.google.com/github/AleksiKnuutila/trumpvschapo/blob/master/Scattertext_comparing_r_The_Donald_to_r_ChapoTrapHouse.ipynb\" target=\"_parent\"><img src=\"https://colab.research.google.com/assets/colab-badge.svg\" alt=\"Open In Colab\"/></a>"
      ]
    },
    {
      "cell_type": "code",
      "metadata": {
        "id": "2lSHxFBh2DZ9",
        "colab_type": "code",
        "outputId": "33f6a240-b79f-4393-a3b3-7693b5c4e84c",
        "colab": {
          "base_uri": "https://localhost:8080/",
          "height": 331
        }
      },
      "source": [
        "!pip install scattertext"
      ],
      "execution_count": 0,
      "outputs": [
        {
          "output_type": "stream",
          "text": [
            "Collecting scattertext\n",
            "\u001b[?25l  Downloading https://files.pythonhosted.org/packages/e0/6a/d2b2af772934a946cbebb47cb068b4631ed437a264d9cfc7ef5761f95e00/scattertext-0.0.2.56-py3-none-any.whl (6.8MB)\n",
            "\u001b[K     |████████████████████████████████| 6.8MB 2.8MB/s \n",
            "\u001b[?25hRequirement already satisfied: scikit-learn in /usr/local/lib/python3.6/dist-packages (from scattertext) (0.22.1)\n",
            "Requirement already satisfied: statsmodels in /usr/local/lib/python3.6/dist-packages (from scattertext) (0.10.2)\n",
            "Requirement already satisfied: scipy in /usr/local/lib/python3.6/dist-packages (from scattertext) (1.4.1)\n",
            "Requirement already satisfied: pandas in /usr/local/lib/python3.6/dist-packages (from scattertext) (0.25.3)\n",
            "Collecting mock\n",
            "  Downloading https://files.pythonhosted.org/packages/05/d2/f94e68be6b17f46d2c353564da56e6fb89ef09faeeff3313a046cb810ca9/mock-3.0.5-py2.py3-none-any.whl\n",
            "Requirement already satisfied: six in /usr/local/lib/python3.6/dist-packages (from scattertext) (1.12.0)\n",
            "Requirement already satisfied: numpy in /usr/local/lib/python3.6/dist-packages (from scattertext) (1.17.5)\n",
            "Requirement already satisfied: joblib>=0.11 in /usr/local/lib/python3.6/dist-packages (from scikit-learn->scattertext) (0.14.1)\n",
            "Requirement already satisfied: patsy>=0.4.0 in /usr/local/lib/python3.6/dist-packages (from statsmodels->scattertext) (0.5.1)\n",
            "Requirement already satisfied: pytz>=2017.2 in /usr/local/lib/python3.6/dist-packages (from pandas->scattertext) (2018.9)\n",
            "Requirement already satisfied: python-dateutil>=2.6.1 in /usr/local/lib/python3.6/dist-packages (from pandas->scattertext) (2.6.1)\n",
            "Installing collected packages: mock, scattertext\n",
            "Successfully installed mock-3.0.5 scattertext-0.0.2.56\n"
          ],
          "name": "stdout"
        }
      ]
    },
    {
      "cell_type": "markdown",
      "metadata": {
        "id": "BnA_wwdoT_Wk",
        "colab_type": "text"
      },
      "source": [
        "#### Simple directory structure"
      ]
    },
    {
      "cell_type": "code",
      "metadata": {
        "id": "j2T3Fsn9L2wE",
        "colab_type": "code",
        "colab": {}
      },
      "source": [
        "!mkdir external_data\n",
        "!mkdir processed_data"
      ],
      "execution_count": 0,
      "outputs": []
    },
    {
      "cell_type": "markdown",
      "metadata": {
        "id": "09DgWfOoUS3C",
        "colab_type": "text"
      },
      "source": [
        "#### Libraries"
      ]
    },
    {
      "cell_type": "code",
      "metadata": {
        "id": "AZ8WjM_dIIB5",
        "colab_type": "code",
        "outputId": "42c08456-8c34-489c-e065-c5c0436264d4",
        "colab": {
          "base_uri": "https://localhost:8080/",
          "height": 72
        }
      },
      "source": [
        "import scattertext\n",
        "from spacy.lang.en import English\n",
        "nlp = English()\n",
        "nlp.add_pipe(nlp.create_pipe('sentencizer'))"
      ],
      "execution_count": 0,
      "outputs": [
        {
          "output_type": "stream",
          "text": [
            "/usr/local/lib/python3.6/dist-packages/sklearn/utils/deprecation.py:144: FutureWarning: The sklearn.feature_extraction.stop_words module is  deprecated in version 0.22 and will be removed in version 0.24. The corresponding classes / functions should instead be imported from sklearn.feature_extraction.text. Anything that cannot be imported from sklearn.feature_extraction.text is now part of the private API.\n",
            "  warnings.warn(message, FutureWarning)\n"
          ],
          "name": "stderr"
        }
      ]
    },
    {
      "cell_type": "markdown",
      "metadata": {
        "colab_type": "text",
        "id": "qTmLBxDxBAZL"
      },
      "source": [
        "### Provide your credentials to the runtime"
      ]
    },
    {
      "cell_type": "code",
      "metadata": {
        "colab_type": "code",
        "id": "SeTJb51SKs_W",
        "outputId": "188d99c3-1b2e-4679-d8e0-7ffe6ea6d569",
        "colab": {
          "base_uri": "https://localhost:8080/",
          "height": 35
        }
      },
      "source": [
        "from google.colab import auth\n",
        "auth.authenticate_user()\n",
        "print('Authenticated')"
      ],
      "execution_count": 0,
      "outputs": [
        {
          "output_type": "stream",
          "text": [
            "Authenticated\n"
          ],
          "name": "stdout"
        }
      ]
    },
    {
      "cell_type": "markdown",
      "metadata": {
        "colab_type": "text",
        "id": "jkN84C6eHkIO"
      },
      "source": [
        "#### Access Reddit comments via BigQuery and save to CSV"
      ]
    },
    {
      "cell_type": "code",
      "metadata": {
        "id": "FqvtqH-OzP5G",
        "colab_type": "code",
        "colab": {}
      },
      "source": [
        "%%bigquery --project oiiapp df\n",
        "SELECT body,subreddit FROM `fh-bigquery.reddit_comments.2018_11` \n",
        "WHERE subreddit IN ('The_Donald','ChapoTrapHouse')"
      ],
      "execution_count": 0,
      "outputs": []
    },
    {
      "cell_type": "code",
      "metadata": {
        "id": "kanFIzDFMOma",
        "colab_type": "code",
        "outputId": "fdd062a1-82cb-4dab-c60d-7fc8ed8923e3",
        "colab": {
          "base_uri": "https://localhost:8080/",
          "height": 69
        }
      },
      "source": [
        "df.subreddit.value_counts()"
      ],
      "execution_count": 0,
      "outputs": [
        {
          "output_type": "execute_result",
          "data": {
            "text/plain": [
              "The_Donald        987062\n",
              "ChapoTrapHouse    315718\n",
              "Name: subreddit, dtype: int64"
            ]
          },
          "metadata": {
            "tags": []
          },
          "execution_count": 6
        }
      ]
    },
    {
      "cell_type": "code",
      "metadata": {
        "id": "D0BbLe0G1yOr",
        "colab_type": "code",
        "colab": {}
      },
      "source": [
        "df.to_csv('external_data/comments-2018_11.csv')\n"
      ],
      "execution_count": 0,
      "outputs": []
    },
    {
      "cell_type": "markdown",
      "metadata": {
        "id": "SfEm9ZT3NLV_",
        "colab_type": "text"
      },
      "source": [
        "#### Tokenise and make scattertext visualisation, then save corpus"
      ]
    },
    {
      "cell_type": "code",
      "metadata": {
        "id": "ZkYyPUQY3SlF",
        "colab_type": "code",
        "colab": {}
      },
      "source": [
        "corpus = scattertext.CorpusFromPandas(df,category_col='subreddit',text_col='body',\n",
        "                                      nlp=nlp).build().get_unigram_corpus()\n",
        "\n",
        "html = scattertext.produce_scattertext_explorer(corpus,category='The_Donald',\n",
        "                                                category_name='The Donald', not_category_name='Chapo', \n",
        "                                                minimum_term_frequency=1250, max_docs_per_category=0)"
      ],
      "execution_count": 0,
      "outputs": []
    },
    {
      "cell_type": "code",
      "metadata": {
        "id": "EuBLIXsiOkOS",
        "colab_type": "code",
        "colab": {}
      },
      "source": [
        "term_freq_df = corpus.get_term_freq_df()\n",
        "for subreddit in ['The_Donald','ChapoTrapHouse']:\n",
        "  term_freq_df['{} Score'.format(subreddit)] = corpus.get_scaled_f_scores(subreddit)\n",
        "\n",
        "term_freq_df.to_csv('processed_data/term_freqs_and_scores-2018_11.csv')"
      ],
      "execution_count": 0,
      "outputs": []
    },
    {
      "cell_type": "code",
      "metadata": {
        "id": "woo5jsni8XY6",
        "colab_type": "code",
        "outputId": "1df20dc4-5916-45b1-d7a6-b6abdfa6f0da",
        "colab": {
          "base_uri": "https://localhost:8080/",
          "height": 35
        }
      },
      "source": [
        "open('scattertext-reddit.html', 'wb').write(html.encode('utf-8'))"
      ],
      "execution_count": 0,
      "outputs": [
        {
          "output_type": "execute_result",
          "data": {
            "text/plain": [
              "984399"
            ]
          },
          "metadata": {
            "tags": []
          },
          "execution_count": 13
        }
      ]
    }
  ]
}